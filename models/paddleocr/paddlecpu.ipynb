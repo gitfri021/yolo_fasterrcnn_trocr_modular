{
 "cells": [
  {
   "cell_type": "code",
   "execution_count": null,
   "id": "4f3627e6-3faa-43f1-9cf1-bc7b5cd3f232",
   "metadata": {},
   "outputs": [],
   "source": []
  },
  {
   "cell_type": "code",
   "execution_count": null,
   "id": "4193df64-6a6e-4a10-8ca7-819d867f89dc",
   "metadata": {},
   "outputs": [],
   "source": []
  },
  {
   "cell_type": "code",
   "execution_count": null,
   "id": "91760c6a-2e48-4082-a914-a3a6f785e234",
   "metadata": {},
   "outputs": [],
   "source": []
  },
  {
   "cell_type": "code",
   "execution_count": null,
   "id": "5923ad13-51aa-40cb-be60-c561354c65c0",
   "metadata": {},
   "outputs": [],
   "source": []
  },
  {
   "cell_type": "code",
   "execution_count": null,
   "id": "dcfe4ecb-0dd8-4f95-9ca9-cebc68dc449a",
   "metadata": {},
   "outputs": [],
   "source": []
  },
  {
   "cell_type": "code",
   "execution_count": null,
   "id": "7c21ec9b-4219-4a45-9098-051a6e0eafec",
   "metadata": {},
   "outputs": [],
   "source": []
  },
  {
   "cell_type": "code",
   "execution_count": null,
   "id": "f04924ce-eb0b-41e7-9d5b-c6501bed0d86",
   "metadata": {},
   "outputs": [],
   "source": [
    "import numpy as np\n",
    "import datetime\n",
    "import cv2\n",
    "from paddleocr import PaddleOCR\n",
    "\n",
    "def seed_everything(seed_value):\n",
    "    np.random.seed(seed_value)\n",
    "\n",
    "seed_everything(42)\n",
    "\n",
    "class PaddleOCRCustom:\n",
    "    def __init__(self, rec_model_dir):\n",
    "        self.rec_model_dir = rec_model_dir\n",
    "        self.ocr = PaddleOCR(\n",
    "            rec_model_dir=self.rec_model_dir,\n",
    "            lang='en'  # Specify English language\n",
    "        )\n",
    "        print(f\"[INFO] {datetime.datetime.now()}: PaddleOCR loaded with custom weights!!!\\n\")\n",
    "\n",
    "    def ocr(self, img_path):\n",
    "        \"\"\"\n",
    "        Perform OCR on an image using PaddleOCR.\n",
    "\n",
    "        Args:\n",
    "            img_path (str): Path to the image file.\n",
    "\n",
    "        Returns:\n",
    "            result (list): List of OCR results.\n",
    "        \"\"\"\n",
    "        result = self.ocr.ocr(img_path)\n",
    "        return result\n",
    "\n",
    "    def __call__(self, img_path):\n",
    "        \"\"\"\n",
    "        Makes the class callable for OCR.\n",
    "\n",
    "        Args:\n",
    "            img_path (str): Path to the image file.\n",
    "\n",
    "        Returns:\n",
    "            result (list): List of OCR results.\n",
    "        \"\"\"\n",
    "        result = self.ocr(img_path)\n",
    "        return result\n",
    "\n",
    "# Example usage:\n",
    "img_path = 'path/to/your/image.jpg'\n",
    "ocr_model = PaddleOCRCustom(rec_model_dir='path/to/your/rec_model')\n",
    "result = ocr_model(img_path)\n",
    "\n",
    "# Extract text and box positions\n",
    "image = cv2.imread(img_path)\n",
    "boxes = [res[0] for res in result]\n",
    "txts = [res[1][0] for res in result]\n",
    "scores = [res[1][1] for res in result]\n",
    "\n",
    "for box, txt in zip(boxes, txts):\n",
    "    box = np.array(box).astype(int)\n",
    "    cv2.polylines(image, [box], isClosed=True, color=(0, 255, 0), thickness=2)\n",
    "    cv2.putText(image, txt, (box[0][0], box[0][1]), cv2.FONT_HERSHEY_SIMPLEX, 0.5, (0, 0, 255), 2)\n",
    "\n",
    "cv2.imshow('Result', image)\n",
    "cv2.waitKey(0)\n",
    "cv2.destroyAllWindows()\n"
   ]
  }
 ],
 "metadata": {
  "kernelspec": {
   "display_name": "Python 3 (ipykernel)",
   "language": "python",
   "name": "python3"
  },
  "language_info": {
   "codemirror_mode": {
    "name": "ipython",
    "version": 3
   },
   "file_extension": ".py",
   "mimetype": "text/x-python",
   "name": "python",
   "nbconvert_exporter": "python",
   "pygments_lexer": "ipython3",
   "version": "3.8.19"
  }
 },
 "nbformat": 4,
 "nbformat_minor": 5
}
